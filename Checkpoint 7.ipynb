{
 "cells": [
  {
   "cell_type": "code",
   "execution_count": 70,
   "id": "bf52e940",
   "metadata": {},
   "outputs": [
    {
     "name": "stdout",
     "output_type": "stream",
     "text": [
      "Donner le nombre d'eleves2\n",
      "Donner le nombre de matières2\n",
      "les notes du l'eleve n°1  :\n",
      "entre la note n°1 :11\n",
      "entre la note n°2 :12\n",
      "les notes du l'eleve n°2  :\n",
      "entre la note n°1 :15\n",
      "entre la note n°2 :17\n",
      "total marks is:  55.0\n",
      "[23. 32.]\n",
      "le pourcentage de l'eleve n° :1 est 11.5%\n",
      "le pourcentage de l'eleve n° :2 est 16.0%\n",
      "[11.5, 16.0]\n",
      "\n",
      "\n",
      "\n",
      "-----------------------------------------------------------------------------------\n",
      "\t\t\t\n",
      " TABLEAU DES NOTES\n",
      "\n",
      "-----------------------------------------------------------------------------------\n",
      "n° eleve/   Total notes/   pourcentage/  grade\n",
      "\n",
      "1\t\t23.0\t\t11.5\tF\n",
      "\n",
      "2\t\t32.0\t\t16.0\tF\n",
      "\n"
     ]
    }
   ],
   "source": [
    "import numpy as np\n",
    "\n",
    "A=int(input(\"Donner le nombre d'eleves\"))\n",
    "B=int(input(\"Donner le nombre de matières\"))\n",
    "L=[]\n",
    "TOT=0\n",
    "matrice=np.zeros((A,B))\n",
    "total=0\n",
    "''''for i in range(A):\n",
    "    print(f\"les notes du l'eleve n°{i+1}  :\")\n",
    "    for j in range(B):\n",
    "        note=float(input(f\"entre la note n°{j+1} :\"))\n",
    "        matrice[i,j]=note\n",
    "        total+=note\n",
    "        TOT+=total\n",
    "    L.append(total)\n",
    "    total=0'''\n",
    "for i in range(A):\n",
    "    print(f\"les notes du l'eleve n°{i+1}  :\")\n",
    "    for j in range(B):\n",
    "        note=float(input(f\"entre la note n°{j+1} :\"))\n",
    "        matrice[i,j]=note\n",
    "TOT=np.sum(matrice)\n",
    "L=np.sum(matrice,axis=1)\n",
    "#total des notes :\n",
    "print(f\"total marks is:  {TOT}\")\n",
    "#pourcentage de chaque etudiant par rapport eu total mark\n",
    "print(L)\n",
    "k=0\n",
    "pourcentage=[]\n",
    "for i in L:\n",
    "    k+=1\n",
    "    pourcentage.append(((i/(B*100))*100))\n",
    "    print(f\"le pourcentage de l'eleve n° :{k} est {((i/(B*100))*100)}%\")\n",
    "    \n",
    "print(pourcentage)\n",
    "grade=[]\n",
    "for i in pourcentage:\n",
    "    if i>=90:\n",
    "        grade.append(\"A+\")\n",
    "    elif i>=80:\n",
    "        grade.append(\"A\")\n",
    "    elif i>=70:\n",
    "        grade.append(\"B+\")\n",
    "    elif i>=60:\n",
    "        grade.append(\"B\")\n",
    "    elif i>=50:\n",
    "        grade.append(\"C\")\n",
    "    else : \n",
    "        grade.append(\"F\")\n",
    "        \n",
    "print(\"\\n\\n\")\n",
    "print(\"-----------------------------------------------------------------------------------\")\n",
    "print(\"\\t\\t\\t\\n TABLEAU DES NOTES\\n\")\n",
    "print(\"-----------------------------------------------------------------------------------\")\n",
    "print(\"n° eleve/   Total notes/   pourcentage/  grade\\n\")\n",
    "for i in range(A):\n",
    "    print(f\"{i+1}\\t\\t{L[i]}\\t\\t{pourcentage[i]}\\t{grade[i]}\\n\")\n",
    "\n",
    "\n",
    "\n",
    "        \n",
    "        \n",
    "\n"
   ]
  },
  {
   "cell_type": "markdown",
   "id": "6b46e2d1",
   "metadata": {},
   "source": [
    "13## 2"
   ]
  },
  {
   "cell_type": "markdown",
   "id": "ae67d0ca",
   "metadata": {},
   "source": [
    "## 2"
   ]
  }
 ],
 "metadata": {
  "kernelspec": {
   "display_name": "Python 3 (ipykernel)",
   "language": "python",
   "name": "python3"
  },
  "language_info": {
   "codemirror_mode": {
    "name": "ipython",
    "version": 3
   },
   "file_extension": ".py",
   "mimetype": "text/x-python",
   "name": "python",
   "nbconvert_exporter": "python",
   "pygments_lexer": "ipython3",
   "version": "3.9.13"
  }
 },
 "nbformat": 4,
 "nbformat_minor": 5
}
