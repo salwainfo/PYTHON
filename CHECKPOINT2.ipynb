{
 "cells": [
  {
   "cell_type": "code",
   "execution_count": 2,
   "id": "c3279514",
   "metadata": {},
   "outputs": [
    {
     "name": "stdout",
     "output_type": "stream",
     "text": [
      "TALBI\n",
      "SALWA\n",
      "SALWA TALBI\n"
     ]
    }
   ],
   "source": [
    "nom=input()\n",
    "prenom=input()\n",
    "print(prenom+\" \"+nom)\n"
   ]
  },
  {
   "cell_type": "code",
   "execution_count": 9,
   "id": "e032e0af",
   "metadata": {},
   "outputs": [
    {
     "name": "stdout",
     "output_type": "stream",
     "text": [
      "5\n",
      "60\n",
      "615\n"
     ]
    }
   ],
   "source": [
    "n=\"5\"\n",
    "s=0\n",
    "for i in range(1,4):\n",
    "    p=n*i\n",
    "    s=s+int(p)\n",
    "    print(s)\n"
   ]
  },
  {
   "cell_type": "code",
   "execution_count": 15,
   "id": "1db81435",
   "metadata": {},
   "outputs": [
    {
     "name": "stdout",
     "output_type": "stream",
     "text": [
      "6\n",
      "nombre pair\n"
     ]
    }
   ],
   "source": [
    "n=input()\n",
    "nb=int(n)\n",
    "k=nb%2\n",
    "if k==0:print(\"nombre pair\")\n",
    "else: print(\"nombre impair\")"
   ]
  },
  {
   "cell_type": "code",
   "execution_count": 51,
   "id": "234deac2",
   "metadata": {},
   "outputs": [
    {
     "name": "stdout",
     "output_type": "stream",
     "text": [
      "2030,2065,2100,2135,2170,2205,2240,2275,2310,2345,2380,2415,2450,2485,2520,2555,2590,2625,2660,2695,2730,2765,2800,2835,2870,2905,2940,2975,3010,3045,3080,3115,3150,3185,\n"
     ]
    }
   ],
   "source": [
    "ch=\"\"\n",
    "for i in range(2000,3201):\n",
    "    n=i%7\n",
    "    if n==0:\n",
    "        m=i%5\n",
    "        if m==0:\n",
    "            ch=ch+str(i)+\",\"\n",
    "                    \n",
    "                \n",
    "print(ch)"
   ]
  },
  {
   "cell_type": "code",
   "execution_count": 52,
   "id": "b859971a",
   "metadata": {},
   "outputs": [
    {
     "name": "stdout",
     "output_type": "stream",
     "text": [
      "6\n",
      "720\n"
     ]
    }
   ],
   "source": [
    "m=int(input())\n",
    "s=1\n",
    "\n",
    "for i in range(1,m+1):\n",
    "    s=s*i\n",
    "print(s)\n"
   ]
  },
  {
   "cell_type": "code",
   "execution_count": 32,
   "id": "2854e790",
   "metadata": {},
   "outputs": [
    {
     "name": "stdout",
     "output_type": "stream",
     "text": [
      "hlota\n"
     ]
    }
   ],
   "source": [
    "ch=\"hello team\"\n",
    "ch2=\"\"\n",
    "for i in range(0,len(ch)):\n",
    "    if i%2==0:\n",
    "        ch2=ch2+ch[i]\n",
    "print(ch2)\n"
   ]
  },
  {
   "cell_type": "code",
   "execution_count": 50,
   "id": "872e62fa",
   "metadata": {},
   "outputs": [
    {
     "name": "stdout",
     "output_type": "stream",
     "text": [
      "Donner chi l3ba400\n",
      "280.0\n"
     ]
    }
   ],
   "source": [
    "x=float(input(\"Donner chi l3ba\"))\n",
    "r=0\n",
    "if x>500:\n",
    "    r=x-x*0.5\n",
    "elif (x<500 and x>200):\n",
    "        r=x-x*0.3\n",
    "else: r=x-x*0.1\n",
    "    \n",
    "print(r)"
   ]
  },
  {
   "cell_type": "code",
   "execution_count": null,
   "id": "94fd73da",
   "metadata": {},
   "outputs": [],
   "source": []
  }
 ],
 "metadata": {
  "kernelspec": {
   "display_name": "Python 3 (ipykernel)",
   "language": "python",
   "name": "python3"
  },
  "language_info": {
   "codemirror_mode": {
    "name": "ipython",
    "version": 3
   },
   "file_extension": ".py",
   "mimetype": "text/x-python",
   "name": "python",
   "nbconvert_exporter": "python",
   "pygments_lexer": "ipython3",
   "version": "3.9.13"
  }
 },
 "nbformat": 4,
 "nbformat_minor": 5
}
