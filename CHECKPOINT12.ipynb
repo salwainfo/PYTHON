{
 "cells": [
  {
   "cell_type": "code",
   "execution_count": 1,
   "id": "3a0b87a1",
   "metadata": {},
   "outputs": [],
   "source": [
    "import tkinter as tk\n",
    "\n",
    "def convert():\n",
    "    fahrenheit = float(entry.get())\n",
    "    celsius = (fahrenheit - 32) * 5/9\n",
    "    # Update the label with the result\n",
    "    label_result.config(text=f\"{celsius:.2f} \\N{DEGREE CELSIUS}\")\n",
    "\n",
    "\n",
    "root = tk.Tk()\n",
    "root.title(\"Temperature Converter\")\n",
    "\n",
    "\n",
    "label_fahrenheit = tk.Label(root, text=\"Enter temperature in Fahrenheit:\")\n",
    "label_fahrenheit.pack()\n",
    "entry = tk.Entry(root)\n",
    "entry.pack()\n",
    "\n",
    "\n",
    "button_convert = tk.Button(root, text=\"Convert\", command=convert)\n",
    "button_convert.pack()\n",
    "\n",
    "\n",
    "label_result = tk.Label(root, text=\"\")\n",
    "label_result.pack()\n",
    "\n",
    "\n",
    "root.mainloop()"
   ]
  },
  {
   "cell_type": "code",
   "execution_count": null,
   "id": "44934f11",
   "metadata": {},
   "outputs": [],
   "source": []
  }
 ],
 "metadata": {
  "kernelspec": {
   "display_name": "Python 3 (ipykernel)",
   "language": "python",
   "name": "python3"
  },
  "language_info": {
   "codemirror_mode": {
    "name": "ipython",
    "version": 3
   },
   "file_extension": ".py",
   "mimetype": "text/x-python",
   "name": "python",
   "nbconvert_exporter": "python",
   "pygments_lexer": "ipython3",
   "version": "3.9.13"
  }
 },
 "nbformat": 4,
 "nbformat_minor": 5
}
