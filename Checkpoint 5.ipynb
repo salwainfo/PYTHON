{
 "cells": [
  {
   "cell_type": "code",
   "execution_count": 37,
   "id": "4ff8f5d7",
   "metadata": {},
   "outputs": [
    {
     "name": "stdout",
     "output_type": "stream",
     "text": [
      "[1, 2, 3]\n"
     ]
    }
   ],
   "source": [
    "class Point3D:\n",
    "    def __init__(self,x,y,z):\n",
    "        self.x=x\n",
    "        self.y=y\n",
    "        self.z=z\n",
    "        \n",
    "    def retourner(self):\n",
    "        l=[self.x,self.y,self.z]\n",
    "        return l\n",
    "    \n",
    "my_point=Point3D(1,2,3)\n",
    "\n",
    "print(my_point.retourner())"
   ]
  },
  {
   "cell_type": "code",
   "execution_count": 1,
   "id": "c3af8f71",
   "metadata": {},
   "outputs": [
    {
     "name": "stdout",
     "output_type": "stream",
     "text": [
      "12\n",
      "14\n"
     ]
    }
   ],
   "source": [
    "class Rectangle:\n",
    "    def __init__(self,length,width):\n",
    "        self.length=length\n",
    "        self.width=width\n",
    "    def area(self):\n",
    "        return self.length*self.width\n",
    "    def perimeter(self):\n",
    "        return (self.length+self.width)*2\n",
    "    \n",
    "my_rectangle=Rectangle(3,4)\n",
    "print(my_rectangle.area())\n",
    "print(my_rectangle.perimeter())\n",
    "    "
   ]
  },
  {
   "cell_type": "code",
   "execution_count": 59,
   "id": "8b19880b",
   "metadata": {},
   "outputs": [
    {
     "name": "stdout",
     "output_type": "stream",
     "text": [
      "153.93804002589985\n",
      "43.982297150257104\n",
      "True\n"
     ]
    }
   ],
   "source": [
    "import math\n",
    "class Circle:\n",
    "    def __init__(self,center,radius):\n",
    "        self.center=center\n",
    "        self.radius=radius\n",
    "        \n",
    "    def area(self):\n",
    "        return math.pi*(self.radius)**2\n",
    "    def perimeter(self):\n",
    "        return 2*math.pi*self.radius\n",
    "    def inside(self,x,y):\n",
    "        return (x-self.center)**2+(y-self.radius)**2<=self.radius**2\n",
    "cer=Circle(3,7)\n",
    "\n",
    "print(cer.area())   # surface\n",
    "print(cer.perimeter()) # perimetre\n",
    "print(cer.inside(4,5))\n"
   ]
  },
  {
   "cell_type": "markdown",
   "id": "cafd3879",
   "metadata": {},
   "source": []
  },
  {
   "cell_type": "code",
   "execution_count": 6,
   "id": "ac88169c",
   "metadata": {},
   "outputs": [
    {
     "name": "stdout",
     "output_type": "stream",
     "text": [
      "1200\n",
      "600\n"
     ]
    }
   ],
   "source": [
    "class Bank:\n",
    "    def __init__(self,solde):\n",
    "        self.solde=solde\n",
    "    def depot(self,montant):\n",
    "        self.solde+=montant\n",
    "        print(self.solde)\n",
    "                      \n",
    "    def retrait(self,montant):\n",
    "        self.solde-=montant\n",
    "        print(self.solde)\n",
    "        \n",
    "bank=Bank(1000)\n",
    "bank.depot(200)\n",
    "bank.retrait(600)\n",
    "\n",
    "\n",
    "        \n",
    "        \n",
    "    "
   ]
  },
  {
   "cell_type": "code",
   "execution_count": null,
   "id": "78ffeb27",
   "metadata": {},
   "outputs": [],
   "source": []
  }
 ],
 "metadata": {
  "kernelspec": {
   "display_name": "Python 3 (ipykernel)",
   "language": "python",
   "name": "python3"
  },
  "language_info": {
   "codemirror_mode": {
    "name": "ipython",
    "version": 3
   },
   "file_extension": ".py",
   "mimetype": "text/x-python",
   "name": "python",
   "nbconvert_exporter": "python",
   "pygments_lexer": "ipython3",
   "version": "3.9.13"
  }
 },
 "nbformat": 4,
 "nbformat_minor": 5
}
