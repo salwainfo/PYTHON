{
 "cells": [
  {
   "cell_type": "code",
   "execution_count": 7,
   "id": "36ff31ec",
   "metadata": {},
   "outputs": [
    {
     "name": "stdout",
     "output_type": "stream",
     "text": [
      "35\n"
     ]
    }
   ],
   "source": [
    "#EXERCICE 1\n",
    "def max(a,b,c):\n",
    "    l=[a,b,c]\n",
    "    ma=0\n",
    "    for i in l:\n",
    "        \n",
    "        if ma<int(i):\n",
    "            ma=i\n",
    "       \n",
    "    return (ma)\n",
    "                \n",
    "print(max(20,35,19))           \n",
    "        \n",
    "    "
   ]
  },
  {
   "cell_type": "code",
   "execution_count": 11,
   "id": "28d00d66",
   "metadata": {},
   "outputs": [
    {
     "name": "stdout",
     "output_type": "stream",
     "text": [
      "[50, 30]\n"
     ]
    }
   ],
   "source": [
    "#EXERCICE 2\n",
    "def calculation(a,b):\n",
    "    l=[]\n",
    "    s=a+b\n",
    "    so=a-b\n",
    "    l.append(s)\n",
    "    l.append(so)\n",
    "    return l\n",
    "print(calculation(40,10))\n",
    "    "
   ]
  },
  {
   "cell_type": "code",
   "execution_count": 45,
   "id": "b37e0682",
   "metadata": {},
   "outputs": [
    {
     "name": "stdout",
     "output_type": "stream",
     "text": [
      "240\n",
      "144000000\n",
      "306\n",
      "1987776\n"
     ]
    }
   ],
   "source": [
    "#EXERCICE 3\n",
    "def sommelist(l):\n",
    "    som=0\n",
    "    for i in l:\n",
    "        som+=int(i)\n",
    "    return som\n",
    "print(sommelist([20,30,50,60,80]))\n",
    "\n",
    "def multiplication(l):\n",
    "    mul=1\n",
    "    for i in l:\n",
    "        mul=mul*int(i)\n",
    "    return mul\n",
    "print(multiplication([20,30,50,60,80]))\n",
    "l=[50,87,90,56,45,34,23,12,98]\n",
    "pos=0\n",
    "p=[]\n",
    "m=[]\n",
    "for i in l:\n",
    "    if pos%2==0:\n",
    "        p.append(i)\n",
    "        pos+=1\n",
    "    else:\n",
    "        m.append(i)\n",
    "        pos+=1\n",
    "\n",
    "print(sommelist(p))\n",
    "print(multiplication(m))\n",
    "    "
   ]
  },
  {
   "cell_type": "code",
   "execution_count": 54,
   "id": "380e1a0e",
   "metadata": {},
   "outputs": [
    {
     "name": "stdout",
     "output_type": "stream",
     "text": [
      "{'nom': 'Talbi', 'prenom': 'Salwa'}\n"
     ]
    }
   ],
   "source": [
    "#EXERCICE 4\n",
    "def maj(dic):\n",
    "    for key,value in dic.items():\n",
    "        dic[key]=value.capitalize()\n",
    "    return(dic) \n",
    "dict={\"nom\":\"talbi\",\"prenom\":\"salwa\"}\n",
    "print(maj(dict))              "
   ]
  },
  {
   "cell_type": "code",
   "execution_count": 55,
   "id": "a318af4e",
   "metadata": {},
   "outputs": [
    {
     "name": "stdout",
     "output_type": "stream",
     "text": [
      "gtrgrtgtgtrgr\n"
     ]
    }
   ],
   "source": [
    "#EXERCICE 5\n",
    "def maxlong(dic):\n",
    "    long=0\n",
    "    ch=\"\"\n",
    "    for i in dic.values():\n",
    "        if len(i)>long:\n",
    "            ch=i\n",
    "    return ch\n",
    "print(maxlong({\"nom\":\"talbi\",\"prenom\":\"salwa\",\"dddddd\":\"gtrgrtgtgtrgr\"}))       "
   ]
  },
  {
   "cell_type": "code",
   "execution_count": 60,
   "id": "a0f29473",
   "metadata": {},
   "outputs": [
    {
     "name": "stdout",
     "output_type": "stream",
     "text": [
      "blanc-jaune-noir-rouge-vert\n"
     ]
    }
   ],
   "source": [
    "#EXERCICE 6\n",
    "def traitement(ch):\n",
    "    liste=[]\n",
    "    liste=ch.split(\"-\")\n",
    "    liste.sort()\n",
    "    ch=\"\"\n",
    "    for i in liste:\n",
    "        ch=ch+\"-\"+i\n",
    "    return ch[1:]\n",
    "print(traitement(\"vert-rouge-jaune-noir-blanc\"))\n",
    "    \n"
   ]
  },
  {
   "cell_type": "code",
   "execution_count": 89,
   "id": "f0e9a448",
   "metadata": {},
   "outputs": [
    {
     "name": "stdout",
     "output_type": "stream",
     "text": [
      "Donner la valeur D100\n",
      "Donner la valeur D150\n",
      "Donner la valeur D300\n",
      "[18, 22, 31]\n"
     ]
    }
   ],
   "source": [
    "#EXERCICE 7\n",
    "import math\n",
    "C=50\n",
    "H=30\n",
    "L=[]\n",
    "for i in range(3):\n",
    "    D=input(\"Donner la valeur D\")\n",
    " \n",
    "    x=lambda y,z,t:math.sqrt(((2*y*z)/t))\n",
    "    val=x(C,int(D),H)\n",
    "    L.append(int(val))\n",
    "    \n",
    "print(L)\n"
   ]
  },
  {
   "cell_type": "code",
   "execution_count": null,
   "id": "d7b47892",
   "metadata": {},
   "outputs": [],
   "source": []
  },
  {
   "cell_type": "code",
   "execution_count": null,
   "id": "0ad5740a",
   "metadata": {},
   "outputs": [],
   "source": []
  }
 ],
 "metadata": {
  "kernelspec": {
   "display_name": "Python 3 (ipykernel)",
   "language": "python",
   "name": "python3"
  },
  "language_info": {
   "codemirror_mode": {
    "name": "ipython",
    "version": 3
   },
   "file_extension": ".py",
   "mimetype": "text/x-python",
   "name": "python",
   "nbconvert_exporter": "python",
   "pygments_lexer": "ipython3",
   "version": "3.9.13"
  }
 },
 "nbformat": 4,
 "nbformat_minor": 5
}
