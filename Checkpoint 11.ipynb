{
 "cells": [
  {
   "cell_type": "code",
   "execution_count": null,
   "id": "98a72381",
   "metadata": {},
   "outputs": [],
   "source": [
    "def rech(A,k):\n",
    "    l=0\n",
    "    h=len(A)-1\n",
    "    while(l <= h):   # h  longeur de liste \n",
    "        mid = int((l + h)/2) #mid=5\n",
    "        if A[mid] < k:\n",
    "            l = mid + 1 \n",
    "        elif A[mid]> k:\n",
    "            l = mid - 1\n",
    "        else:\n",
    "            return True\n",
    "    return False\n",
    " \n",
    "rech([1,2,3,4,5], 4)\n",
    "rech([1,2,3,5,8], 5)"
   ]
  },
  {
   "cell_type": "code",
   "execution_count": null,
   "id": "999627e6",
   "metadata": {},
   "outputs": [],
   "source": [
    "def Power(a,b):\n",
    "    return a**b\n",
    "print(power(3,4))\n"
   ]
  },
  {
   "cell_type": "code",
   "execution_count": null,
   "id": "4b4e3b75",
   "metadata": {},
   "outputs": [],
   "source": [
    "def bubbleSort(nlist):\n",
    "    for passnum in range(len(nlist)-1,0,-1):\n",
    "        for i in range(passnum):\n",
    "            if nlist[i]>nlist[i+1]:\n",
    "                temp = nlist[i]\n",
    "                nlist[i] = nlist[i+1]\n",
    "                nlist[i+1] = temp\n",
    "    return nlist\n",
    "\n",
    "nlist = [29,13,22,37,52,49,46,71,56]\n",
    "bubbleSort(nlist)"
   ]
  },
  {
   "cell_type": "code",
   "execution_count": null,
   "id": "70cc1035",
   "metadata": {},
   "outputs": [],
   "source": [
    "def mergeSort(myList):\n",
    "    if len(myList) > 1:\n",
    "        mid = len(myList) // 2\n",
    "        left = myList[:mid]\n",
    "        right = myList[mid:]\n",
    "\n",
    "      \n",
    "        mergeSort(left)\n",
    "        mergeSort(right)\n",
    "\n",
    "        \n",
    "        i = 0\n",
    "        j = 0\n",
    "        \n",
    "       \n",
    "        k = 0\n",
    "        \n",
    "        while i < len(left) and j < len(right):\n",
    "            if left[i] < right[j]:\n",
    "             \n",
    "              myList[k] = left[i]\n",
    "             \n",
    "              i += 1\n",
    "            else:\n",
    "                myList[k] = right[j]\n",
    "                j += 1\n",
    "           \n",
    "            k += 1\n",
    "\n",
    "       \n",
    "        while i < len(left):\n",
    "            myList[k] = left[i]\n",
    "            i += 1\n",
    "            k += 1\n",
    "\n",
    "        while j < len(right):\n",
    "            myList[k]=right[j]\n",
    "            j += 1\n",
    "            k += 1\n",
    "\n",
    "myList =[13, 22, 29, 37, 42, 46, 49, 56, 71]\n",
    "mergeSort(myList)\n",
    "print(myList)\n"
   ]
  },
  {
   "cell_type": "code",
   "execution_count": null,
   "id": "08b0c6b9",
   "metadata": {},
   "outputs": [],
   "source": [
    "def quick_sort(array, start, end):\n",
    "    if start >= end:\n",
    "        return\n",
    "    p = partition(array, start, end)\n",
    "    quick_sort(array, start, p-1)\n",
    "    quick_sort(array, p+1, end)"
   ]
  },
  {
   "cell_type": "code",
   "execution_count": null,
   "id": "d8c3aa2c",
   "metadata": {},
   "outputs": [],
   "source": []
  }
 ],
 "metadata": {
  "kernelspec": {
   "display_name": "Python 3 (ipykernel)",
   "language": "python",
   "name": "python3"
  },
  "language_info": {
   "codemirror_mode": {
    "name": "ipython",
    "version": 3
   },
   "file_extension": ".py",
   "mimetype": "text/x-python",
   "name": "python",
   "nbconvert_exporter": "python",
   "pygments_lexer": "ipython3",
   "version": "3.9.13"
  }
 },
 "nbformat": 4,
 "nbformat_minor": 5
}
